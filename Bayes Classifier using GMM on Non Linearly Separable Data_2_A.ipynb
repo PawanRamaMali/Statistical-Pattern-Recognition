{
  "nbformat": 4,
  "nbformat_minor": 0,
  "metadata": {
    "colab": {
      "provenance": [],
      "collapsed_sections": [
        "_OEkWUvtntkH"
      ]
    },
    "kernelspec": {
      "name": "python3",
      "display_name": "Python 3"
    },
    "language_info": {
      "name": "python"
    }
  },
  "cells": [
    {
      "cell_type": "markdown",
      "source": [
        "# **Non Linearly Separable Data Exploration**"
      ],
      "metadata": {
        "id": "_OEkWUvtntkH"
      }
    },
    {
      "cell_type": "code",
      "execution_count": null,
      "metadata": {
        "colab": {
          "base_uri": "https://localhost:8080/"
        },
        "id": "4Q0m56K_hOeO",
        "outputId": "743f945e-1866-490c-d331-964a09b170ec"
      },
      "outputs": [
        {
          "output_type": "stream",
          "name": "stdout",
          "text": [
            "  class 1-2446 examples, class 2-2447 examples \n",
            "\n",
            "  1.0064190e+00   7.9715350e+00\n",
            "\n",
            "  -8.5685970e+00  -9.9490500e-01\n",
            "\n",
            "  -7.8304110e+00  -6.0822780e+00\n",
            "\n",
            "  -3.0948430e+00   2.8229700e-01\n",
            "\n",
            "4894\n"
          ]
        }
      ],
      "source": [
        "# Load txt file called NLS_Grroup03.txt and print total lines\n",
        "\n",
        "with open('NLS_Group03.txt', 'r') as f:\n",
        "  lines = f.readlines()\n",
        "\n",
        "for i in range(5):\n",
        "  print(lines[i])\n",
        "\n",
        "print(len(lines))\n",
        "# Total lines 4894"
      ]
    },
    {
      "cell_type": "markdown",
      "source": [],
      "metadata": {
        "id": "UUaSlFBZns2y"
      }
    },
    {
      "cell_type": "markdown",
      "source": [],
      "metadata": {
        "id": "uUbBiok3jfrv"
      }
    },
    {
      "cell_type": "code",
      "source": [
        "import csv\n",
        "import numpy as np\n",
        "\n",
        "# Initialize lists to store the data for the two classes\n",
        "class1_data = []\n",
        "class2_data = []\n",
        "\n",
        "# Assuming the dataset is already read into `lines`\n",
        "# Remove the first row (header)\n",
        "lines = lines[1:]\n",
        "\n",
        "# Iterate through the remaining lines and split data into two classes\n",
        "for i, line in enumerate(lines):\n",
        "    if 0 <= i <= 2446:  # Class 1: lines from index 0 to 2446 (total 2447 lines)\n",
        "        class1_data.append(line)\n",
        "    elif i > 2446:  # Class 2: lines from index 2447 onwards\n",
        "        class2_data.append(line)\n",
        "\n",
        "# Clean the data by stripping and splitting\n",
        "def clean_data(data):\n",
        "    cleaned = []\n",
        "    for row in data:\n",
        "        # Split the string by whitespace and convert to float\n",
        "        cleaned_row = list(map(float, row.strip().split()))\n",
        "        cleaned.append(cleaned_row)\n",
        "    return np.array(cleaned)\n",
        "\n",
        "# Clean the data for both classes\n",
        "class1_np = clean_data(class1_data)\n",
        "class2_np = clean_data(class2_data)\n",
        "\n",
        "# Print a sample of the cleaned data\n",
        "print(\"Cleaned Class 1 data sample:\", class1_np[:3])\n",
        "print(\"Cleaned Class 2 data sample:\", class2_np[:3])\n",
        "\n",
        "# Example analysis: Compute mean and standard deviation for each class\n",
        "class1_mean = np.mean(class1_np, axis=0)\n",
        "class1_std = np.std(class1_np, axis=0)\n",
        "class2_mean = np.mean(class2_np, axis=0)\n",
        "class2_std = np.std(class2_np, axis=0)\n",
        "\n",
        "print(\"\\nClass 1 Mean:\", class1_mean)\n",
        "print(\"Class 1 Standard Deviation:\", class1_std)\n",
        "print(\"\\nClass 2 Mean:\", class2_mean)\n",
        "print(\"Class 2 Standard Deviation:\", class2_std)\n"
      ],
      "metadata": {
        "colab": {
          "base_uri": "https://localhost:8080/"
        },
        "id": "btYA94COlXmS",
        "outputId": "29021310-8222-4828-c03b-9843dd9c57bf"
      },
      "execution_count": null,
      "outputs": [
        {
          "output_type": "stream",
          "name": "stdout",
          "text": [
            "Cleaned Class 1 data sample: [[ 1.006419  7.971535]\n",
            " [-8.568597 -0.994905]\n",
            " [-7.830411 -6.082278]]\n",
            "Cleaned Class 2 data sample: [[-5.057229 -3.588552]\n",
            " [ 1.023803  5.159661]\n",
            " [ 1.479217 11.794899]]\n",
            "\n",
            "Class 1 Mean: [ 0.10919244 -1.04641247]\n",
            "Class 1 Standard Deviation: [5.61276654 5.49292049]\n",
            "\n",
            "Class 2 Mean: [1.02018638 2.06096327]\n",
            "Class 2 Standard Deviation: [5.57550581 5.45448295]\n"
          ]
        }
      ]
    },
    {
      "cell_type": "code",
      "source": [
        "# Variance for each feature in Class 1 and Class 2\n",
        "class1_variance = np.var(class1_np, axis=0)\n",
        "class2_variance = np.var(class2_np, axis=0)\n",
        "\n",
        "print(\"\\nClass 1 Variance:\", class1_variance)\n",
        "print(\"Class 2 Variance:\", class2_variance)\n"
      ],
      "metadata": {
        "colab": {
          "base_uri": "https://localhost:8080/"
        },
        "id": "vlRRr6JdmS04",
        "outputId": "2e0b1e83-4910-415d-b50e-b6a91326968c"
      },
      "execution_count": null,
      "outputs": [
        {
          "output_type": "stream",
          "name": "stdout",
          "text": [
            "\n",
            "Class 1 Variance: [31.50314828 30.17217552]\n",
            "Class 2 Variance: [31.08626501 29.75138427]\n"
          ]
        }
      ]
    },
    {
      "cell_type": "code",
      "source": [
        "# Covariance matrix for Class 1 and Class 2\n",
        "class1_covariance = np.cov(class1_np, rowvar=False)  # Set rowvar=False to treat columns as variables\n",
        "class2_covariance = np.cov(class2_np, rowvar=False)\n",
        "\n",
        "print(\"\\nClass 1 Covariance Matrix:\\n\", class1_covariance)\n",
        "print(\"\\nClass 2 Covariance Matrix:\\n\", class2_covariance)\n"
      ],
      "metadata": {
        "colab": {
          "base_uri": "https://localhost:8080/"
        },
        "id": "ylyLz98MmbHi",
        "outputId": "57d672c0-033c-4f55-e25b-f537f62ccee5"
      },
      "execution_count": null,
      "outputs": [
        {
          "output_type": "stream",
          "name": "stdout",
          "text": [
            "\n",
            "Class 1 Covariance Matrix:\n",
            " [[31.51602774 -2.79925835]\n",
            " [-2.79925835 30.18451083]]\n",
            "\n",
            "Class 2 Covariance Matrix:\n",
            " [[31.09897923 -2.799653  ]\n",
            " [-2.799653   29.76355252]]\n"
          ]
        }
      ]
    },
    {
      "cell_type": "code",
      "source": [
        "# Correlation matrix for Class 1 and Class 2\n",
        "class1_correlation = np.corrcoef(class1_np, rowvar=False)\n",
        "class2_correlation = np.corrcoef(class2_np, rowvar=False)\n",
        "\n",
        "print(\"\\nClass 1 Correlation Matrix:\\n\", class1_correlation)\n",
        "print(\"\\nClass 2 Correlation Matrix:\\n\", class2_correlation)\n"
      ],
      "metadata": {
        "colab": {
          "base_uri": "https://localhost:8080/"
        },
        "id": "TZpQmPSLmiY1",
        "outputId": "cfdbec34-2926-4797-80d5-cf58a9e125a6"
      },
      "execution_count": null,
      "outputs": [
        {
          "output_type": "stream",
          "name": "stdout",
          "text": [
            "\n",
            "Class 1 Correlation Matrix:\n",
            " [[ 1.         -0.09075805]\n",
            " [-0.09075805  1.        ]]\n",
            "\n",
            "Class 2 Correlation Matrix:\n",
            " [[ 1.         -0.09202138]\n",
            " [-0.09202138  1.        ]]\n"
          ]
        }
      ]
    },
    {
      "cell_type": "code",
      "source": [
        "import matplotlib.pyplot as plt\n",
        "\n",
        "# Scatter plot for Class 1 and Class 2\n",
        "plt.scatter(class1_np[:, 0], class1_np[:, 1], color='blue', label='Class 1')\n",
        "plt.scatter(class2_np[:, 0], class2_np[:, 1], color='red', label='Class 2')\n",
        "plt.xlabel('Feature 1')\n",
        "plt.ylabel('Feature 2')\n",
        "plt.title('Scatter Plot of Class 1 and Class 2')\n",
        "plt.legend()\n",
        "plt.show()\n"
      ],
      "metadata": {
        "colab": {
          "base_uri": "https://localhost:8080/",
          "height": 472
        },
        "id": "0bTOqHRvmrcH",
        "outputId": "8a5a939e-0342-492e-d084-13e5c732e637"
      },
      "execution_count": null,
      "outputs": [
        {
          "output_type": "display_data",
          "data": {
            "text/plain": [
              "<Figure size 640x480 with 1 Axes>"
            ],
            "image/png": "[encoded data removed]"
          },
          "metadata": {}
        }
      ]
    },
    {
      "cell_type": "code",
      "source": [],
      "metadata": {
        "id": "BYD_2cUxnY3-"
      },
      "execution_count": null,
      "outputs": []
    },
    {
      "cell_type": "code",
      "source": [
        "# Histogram of each feature for Class 1 and Class 2\n",
        "plt.hist(class1_np[:, 0], bins=20, alpha=0.5, label='Class 1 - Feature')\n",
        "plt.hist(class2_np[:, 0], bins=20, alpha=0.5, label='Class 2 - Feature')\n",
        "plt.xlabel('Feature')\n",
        "plt.ylabel('Frequency')\n",
        "plt.title('Histogram of Features')\n",
        "plt.legend()\n",
        "plt.show()\n"
      ],
      "metadata": {
        "colab": {
          "base_uri": "https://localhost:8080/",
          "height": 472
        },
        "id": "OFaQklUJmuSt",
        "outputId": "e9977067-d915-4b9d-8322-fc1b256927e6"
      },
      "execution_count": null,
      "outputs": [
        {
          "output_type": "display_data",
          "data": {
            "text/plain": [
              "<Figure size 640x480 with 1 Axes>"
            ],
            "image/png": "[encoded data removed]"
          },
          "metadata": {}
        }
      ]
    },
    {
      "cell_type": "code",
      "source": [],
      "metadata": {
        "id": "F5JDh-7EnZuL"
      },
      "execution_count": null,
      "outputs": []
    },
    {
      "cell_type": "code",
      "source": [
        "\n",
        "## To build a Bayes classifier using Gaussian Mixture Models (GMM)"
      ],
      "metadata": {
        "id": "UNk2wjvtnZ5e"
      },
      "execution_count": null,
      "outputs": []
    },
    {
      "cell_type": "markdown",
      "source": [
        "\n",
        "# **Bayes classifier using Gaussian Mixture Models (GMM)**"
      ],
      "metadata": {
        "id": "MER9uwllng55"
      }
    },
    {
      "cell_type": "code",
      "source": [
        "import numpy as np\n",
        "from sklearn.mixture import GaussianMixture\n",
        "from sklearn.cluster import KMeans\n",
        "from sklearn.model_selection import train_test_split\n",
        "from sklearn.metrics import accuracy_score\n",
        "\n",
        "# Import visualization libraries if needed\n",
        "import matplotlib.pyplot as plt\n"
      ],
      "metadata": {
        "id": "tiKVuBzDnnca"
      },
      "execution_count": null,
      "outputs": []
    },
    {
      "cell_type": "markdown",
      "source": [
        "Define a GMM-based Bayes Classifier"
      ],
      "metadata": {
        "id": "T1Csn9tNoGfe"
      }
    },
    {
      "cell_type": "code",
      "source": [
        "\n",
        "# Function to initialize GMM using K-means clustering\n",
        "def gmm_with_kmeans_initialization(X, n_components):\n",
        "    # Step 1: Use K-means for initialization\n",
        "    kmeans = KMeans(n_clusters=n_components, random_state=42).fit(X)\n",
        "    means_init = kmeans.cluster_centers_\n",
        "    labels = kmeans.predict(X)\n",
        "\n",
        "    # Step 2: Initialize weights and covariance matrices for GMM\n",
        "    weights_init = np.bincount(labels) / len(X)  # Weight for each component\n",
        "    covariances_init = np.array([np.cov(X[labels == i].T) for i in range(n_components)])\n",
        "\n",
        "    # Step 3: Fit GMM using KMeans initialization\n",
        "    gmm = GaussianMixture(n_components=n_components, covariance_type='full',\n",
        "                          means_init=means_init, weights_init=weights_init)\n",
        "    gmm.fit(X)\n",
        "\n",
        "    return gmm\n",
        "\n",
        "# Function to build the GMM Bayes Classifier\n",
        "def bayes_classifier(X_train, y_train, X_test, n_components_list):\n",
        "    accuracies = []\n",
        "\n",
        "    for n_components in n_components_list:\n",
        "        print(f\"\\nTraining with {n_components} GMM components...\")\n",
        "\n",
        "        # Split data into Class 1 and Class 2\n",
        "        X_class1 = X_train[y_train == 0]\n",
        "        X_class2 = X_train[y_train == 1]\n",
        "\n",
        "        # Train GMM for Class 1 and Class 2\n",
        "        gmm_class1 = gmm_with_kmeans_initialization(X_class1, n_components)\n",
        "        gmm_class2 = gmm_with_kmeans_initialization(X_class2, n_components)\n",
        "\n",
        "        # Predict the class of the test samples\n",
        "        log_prob_class1 = gmm_class1.score_samples(X_test)\n",
        "        log_prob_class2 = gmm_class2.score_samples(X_test)\n",
        "\n",
        "        # Apply Bayes' rule: classify based on which log-probability is higher\n",
        "        y_pred = np.where(log_prob_class1 > log_prob_class2, 0, 1)\n",
        "\n",
        "        # Compute the accuracy\n",
        "        accuracy = accuracy_score(y_test, y_pred)\n",
        "        accuracies.append((n_components, accuracy))\n",
        "        print(f\"Accuracy with {n_components} components: {accuracy:.4f}\")\n",
        "\n",
        "    return accuracies\n"
      ],
      "metadata": {
        "id": "VYrS0ubvn7tj"
      },
      "execution_count": null,
      "outputs": []
    },
    {
      "cell_type": "markdown",
      "source": [
        "Load and Prepare the Data"
      ],
      "metadata": {
        "id": "1Ln6VhP7oLqN"
      }
    },
    {
      "cell_type": "code",
      "source": [
        "# Assume class1_np and class2_np are already available from the previous steps\n",
        "# Create labels: 0 for Class 1 and 1 for Class 2\n",
        "X = np.vstack((class1_np, class2_np))\n",
        "y = np.hstack((np.zeros(class1_np.shape[0]), np.ones(class2_np.shape[0])))\n",
        "\n",
        "# Split into training and test data\n",
        "X_train, X_test, y_train, y_test = train_test_split(X, y, test_size=0.3, random_state=42)\n"
      ],
      "metadata": {
        "id": "b9Ujy_uaoNQf"
      },
      "execution_count": null,
      "outputs": []
    },
    {
      "cell_type": "markdown",
      "source": [
        "Run the Bayes Classifier with Different GMM Mixture Components"
      ],
      "metadata": {
        "id": "_cZpqYbcoUTh"
      }
    },
    {
      "cell_type": "code",
      "source": [
        "# List of different GMM components to experiment with\n",
        "n_components_list = [1, 2, 4, 8, 16, 32, 64]\n",
        "\n",
        "# Train and evaluate the GMM-based Bayes classifier\n",
        "accuracies = bayes_classifier(X_train, y_train, X_test, n_components_list)\n",
        "\n",
        "# Plotting the results\n",
        "n_components, accs = zip(*accuracies)\n",
        "plt.plot(n_components, accs, marker='o')\n",
        "plt.xlabel('Number of GMM Components')\n",
        "plt.ylabel('Accuracy')\n",
        "plt.title('Accuracy vs Number of GMM Components')\n",
        "plt.xscale('log')\n",
        "plt.grid(True)\n",
        "plt.show()\n"
      ],
      "metadata": {
        "colab": {
          "base_uri": "https://localhost:8080/",
          "height": 945
        },
        "id": "39nWE_Z_oVTx",
        "outputId": "0cafc386-a8e9-4c72-fa37-920a65644fac"
      },
      "execution_count": null,
      "outputs": [
        {
          "output_type": "stream",
          "name": "stdout",
          "text": [
            "\n",
            "Training with 1 GMM components...\n",
            "Accuracy with 1 components: 0.6165\n",
            "\n",
            "Training with 2 GMM components...\n",
            "Accuracy with 2 components: 0.6253\n",
            "\n",
            "Training with 4 GMM components...\n",
            "Accuracy with 4 components: 0.7759\n",
            "\n",
            "Training with 8 GMM components...\n",
            "Accuracy with 8 components: 0.9850\n",
            "\n",
            "Training with 16 GMM components...\n",
            "Accuracy with 16 components: 1.0000\n",
            "\n",
            "Training with 32 GMM components...\n",
            "Accuracy with 32 components: 1.0000\n",
            "\n",
            "Training with 64 GMM components...\n"
          ]
        },
        {
          "output_type": "stream",
          "name": "stderr",
          "text": [
            "<ipython-input-28-6a93b0f2cc5f>:10: RuntimeWarning: Degrees of freedom <= 0 for slice\n",
            "  covariances_init = np.array([np.cov(X[labels == i].T) for i in range(n_components)])\n",
            "/usr/local/lib/python3.10/dist-packages/numpy/lib/function_base.py:2748: RuntimeWarning: divide by zero encountered in divide\n",
            "  c *= np.true_divide(1, fact)\n",
            "/usr/local/lib/python3.10/dist-packages/numpy/lib/function_base.py:2748: RuntimeWarning: invalid value encountered in multiply\n",
            "  c *= np.true_divide(1, fact)\n"
          ]
        },
        {
          "output_type": "stream",
          "name": "stdout",
          "text": [
            "Accuracy with 64 components: 1.0000\n"
          ]
        },
        {
          "output_type": "display_data",
          "data": {
            "text/plain": [
              "<Figure size 640x480 with 1 Axes>"
            ],
            "image/png": "[encoded data removed]"
          },
          "metadata": {}
        }
      ]
    },
    {
      "cell_type": "markdown",
      "source": [],
      "metadata": {
        "id": "tWw1UBaBpXPO"
      }
    },
    {
      "cell_type": "code",
      "source": [],
      "metadata": {
        "id": "WqoGFkNfxCC9"
      },
      "execution_count": null,
      "outputs": []
    },
    {
      "cell_type": "code",
      "source": [],
      "metadata": {
        "id": "Zp0g9x7axGQ1"
      },
      "execution_count": null,
      "outputs": []
    },
    {
      "cell_type": "code",
      "source": [],
      "metadata": {
        "id": "Bxli5uflxL7E"
      },
      "execution_count": null,
      "outputs": []
    },
    {
      "cell_type": "markdown",
      "source": [
        "# **Bayes classifier using Gaussian Mixture Models (GMM) from Scratch**"
      ],
      "metadata": {
        "id": "TuDKNBPDxHMD"
      }
    },
    {
      "cell_type": "markdown",
      "source": [
        "Step 1: Implementing K-means from Scratch"
      ],
      "metadata": {
        "id": "3EdC-8AyxZgj"
      }
    },
    {
      "cell_type": "code",
      "source": [
        "import numpy as np\n",
        "\n",
        "# K-means algorithm\n",
        "def kmeans(X, k, max_iters=100):\n",
        "    # Randomly initialize centroids by selecting k random points\n",
        "    centroids = X[np.random.choice(X.shape[0], k, replace=False)]\n",
        "\n",
        "    for _ in range(max_iters):\n",
        "        # Step 1: Assign clusters (closest centroids)\n",
        "        distances = np.linalg.norm(X[:, np.newaxis] - centroids, axis=2)  # Calculate distance from each point to the centroids\n",
        "        labels = np.argmin(distances, axis=1)  # Assign points to the closest centroid\n",
        "\n",
        "        # Step 2: Recompute centroids based on assigned clusters\n",
        "        new_centroids = np.array([X[labels == i].mean(axis=0) for i in range(k)])\n",
        "\n",
        "        # Check for convergence (if centroids do not change)\n",
        "        if np.all(centroids == new_centroids):\n",
        "            break\n",
        "        centroids = new_centroids\n",
        "\n",
        "    return centroids, labels\n"
      ],
      "metadata": {
        "id": "Vz45sIPqxM9O"
      },
      "execution_count": 36,
      "outputs": []
    },
    {
      "cell_type": "code",
      "source": [],
      "metadata": {
        "id": "7Vr99mcNxMxD"
      },
      "execution_count": null,
      "outputs": []
    },
    {
      "cell_type": "markdown",
      "source": [
        "Step 2: Implementing Gaussian Mixture Model (GMM) using EM\n"
      ],
      "metadata": {
        "id": "9c0HE9fuxXHP"
      }
    },
    {
      "cell_type": "markdown",
      "source": [
        "\n",
        "We implement the EM algorithm to fit a GMM. This algorithm iteratively performs:\n",
        "\n",
        "E-step: Compute the responsibility of each component (i.e., the posterior probability of each Gaussian given the data point).\n",
        "\n",
        "M-step: Update the parameters (mean, covariance, and weight) of the Gaussians based on the computed responsibilities."
      ],
      "metadata": {
        "id": "C5VfDAF5xqUb"
      }
    },
    {
      "cell_type": "code",
      "source": [
        "def gaussian_pdf(X, mean, cov):\n",
        "    # Gaussian PDF function to compute probabilities\n",
        "    n = X.shape[1]  # Dimensionality\n",
        "    diff = X - mean\n",
        "    exp_term = np.exp(-0.5 * np.sum(np.dot(diff, np.linalg.inv(cov)) * diff, axis=1))\n",
        "    return exp_term / np.sqrt((2 * np.pi)**n * np.linalg.det(cov))\n",
        "\n",
        "def gmm_em(X, k, max_iters=100, reg_covar=1e-6):\n",
        "    # Step 1: Initialize GMM parameters using K-means\n",
        "    centroids, labels = kmeans(X, k)\n",
        "    weights = np.array([np.mean(labels == i) for i in range(k)])  # Initial weights (prior probabilities)\n",
        "    covariances = np.array([np.cov(X[labels == i], rowvar=False) for i in range(k)])  # Covariance matrices\n",
        "    means = centroids\n",
        "\n",
        "    # Step 2: EM algorithm\n",
        "    for _ in range(max_iters):\n",
        "        # E-step: Calculate the responsibilities (posterior probabilities) for each Gaussian\n",
        "        responsibilities = np.zeros((X.shape[0], k))\n",
        "        for i in range(k):\n",
        "            responsibilities[:, i] = weights[i] * gaussian_pdf(X, means[i], covariances[i])\n",
        "        responsibilities /= responsibilities.sum(axis=1, keepdims=True)  # Normalize responsibilities\n",
        "\n",
        "        # M-step: Update weights, means, and covariances based on responsibilities\n",
        "        N_k = responsibilities.sum(axis=0)  # Effective number of points assigned to each component\n",
        "        weights = N_k / X.shape[0]  # Update weights\n",
        "        means = np.array([np.sum(responsibilities[:, i][:, np.newaxis] * X, axis=0) / N_k[i] for i in range(k)])  # Update means\n",
        "\n",
        "        # Update covariances with regularization to prevent singularity\n",
        "        covariances = np.array([\n",
        "            np.dot((responsibilities[:, i][:, np.newaxis] * (X - means[i])).T, (X - means[i])) / N_k[i]\n",
        "            + reg_covar * np.eye(X.shape[1])  # Add small regularization term to the diagonal\n",
        "            for i in range(k)\n",
        "        ])  # Update covariances\n",
        "\n",
        "    return means, covariances, weights\n",
        "\n",
        "\n",
        "def gmm_score_samples(X, means, covariances, weights):\n",
        "    # Compute log likelihoods for GMM (used for classification)\n",
        "    scores = np.zeros((X.shape[0], len(means)))\n",
        "    for i in range(len(means)):\n",
        "        scores[:, i] = weights[i] * gaussian_pdf(X, means[i], covariances[i])\n",
        "    return np.log(scores.sum(axis=1))\n"
      ],
      "metadata": {
        "id": "QbA5kLplxbHI"
      },
      "execution_count": 42,
      "outputs": []
    },
    {
      "cell_type": "markdown",
      "source": [
        " Train-Test Split without train_test_split"
      ],
      "metadata": {
        "id": "fCwj-zeKxyPZ"
      }
    },
    {
      "cell_type": "code",
      "source": [
        "def train_test_split_manual(X, y, test_size=0.3, random_state=None):\n",
        "    if random_state:\n",
        "        np.random.seed(random_state)\n",
        "    indices = np.arange(X.shape[0])\n",
        "    np.random.shuffle(indices)\n",
        "\n",
        "    split_idx = int(X.shape[0] * (1 - test_size))\n",
        "    X_train, X_test = X[indices[:split_idx]], X[indices[split_idx:]]\n",
        "    y_train, y_test = y[indices[:split_idx]], y[indices[split_idx:]]\n",
        "\n",
        "    return X_train, X_test, y_train, y_test\n"
      ],
      "metadata": {
        "id": "t4sLxdSLxd0r"
      },
      "execution_count": 43,
      "outputs": []
    },
    {
      "cell_type": "markdown",
      "source": [],
      "metadata": {
        "id": "bTUXcaOVxf4N"
      }
    },
    {
      "cell_type": "code",
      "source": [
        "def accuracy_manual(y_true, y_pred):\n",
        "    return np.mean(y_true == y_pred)\n"
      ],
      "metadata": {
        "id": "bddoBHwmx-zY"
      },
      "execution_count": 40,
      "outputs": []
    },
    {
      "cell_type": "markdown",
      "source": [
        "Step 5: Running GMM-Based Bayes Classifier"
      ],
      "metadata": {
        "id": "3XQ-6mAzyB-d"
      }
    },
    {
      "cell_type": "code",
      "source": [
        "# Manually split the dataset\n",
        "X_train, X_test, y_train, y_test = train_test_split_manual(X, y, test_size=0.3, random_state=42)\n",
        "\n",
        "def bayes_classifier_manual(X_train, y_train, X_test, n_components_list):\n",
        "    accuracies = []\n",
        "    for n_components in n_components_list:\n",
        "        print(f\"\\nTraining with {n_components} GMM components...\")\n",
        "\n",
        "        # Split data into Class 1 and Class 2\n",
        "        X_class1 = X_train[y_train == 0]\n",
        "        X_class2 = X_train[y_train == 1]\n",
        "\n",
        "        # Train GMM for Class 1 and Class 2\n",
        "        means_class1, cov_class1, weights_class1 = gmm_em(X_class1, n_components)\n",
        "        means_class2, cov_class2, weights_class2 = gmm_em(X_class2, n_components)\n",
        "\n",
        "        # Predict the class of the test samples\n",
        "        log_prob_class1 = gmm_score_samples(X_test, means_class1, cov_class1, weights_class1)\n",
        "        log_prob_class2 = gmm_score_samples(X_test, means_class2, cov_class2, weights_class2)\n",
        "\n",
        "        # Apply Bayes' rule: classify based on which log-probability is higher\n",
        "        y_pred = np.where(log_prob_class1 > log_prob_class2, 0, 1)\n",
        "\n",
        "        # Compute the accuracy\n",
        "        accuracy = accuracy_manual(y_test, y_pred)\n",
        "        accuracies.append((n_components, accuracy))\n",
        "        print(f\"Accuracy with {n_components} components: {accuracy:.4f}\")\n",
        "\n",
        "    return accuracies\n",
        "\n",
        "# List of different GMM components to experiment with\n",
        "n_components_list = [1, 2, 4, 8, 16, 32, 64]\n",
        "\n",
        "# Train and evaluate the GMM-based Bayes classifier\n",
        "accuracies = bayes_classifier_manual(X_train, y_train, X_test, n_components_list)\n",
        "\n",
        "# Plotting the results\n",
        "n_components, accs = zip(*accuracies)\n",
        "plt.plot(n_components, accs, marker='o')\n",
        "plt.xlabel('Number of GMM Components')\n",
        "plt.ylabel('Accuracy')\n",
        "plt.title('Accuracy vs Number of GMM Components')\n",
        "plt.xscale('log')\n",
        "plt.grid(True)\n",
        "plt.show()\n"
      ],
      "metadata": {
        "colab": {
          "base_uri": "https://localhost:8080/",
          "height": 840
        },
        "id": "8aWXWSuwyCx0",
        "outputId": "6fcf1965-b2b1-4702-fe28-f1c7b2a49d75"
      },
      "execution_count": 44,
      "outputs": [
        {
          "output_type": "stream",
          "name": "stdout",
          "text": [
            "\n",
            "Training with 1 GMM components...\n",
            "Accuracy with 1 components: 0.6315\n",
            "\n",
            "Training with 2 GMM components...\n",
            "Accuracy with 2 components: 0.6458\n",
            "\n",
            "Training with 4 GMM components...\n",
            "Accuracy with 4 components: 0.8386\n",
            "\n",
            "Training with 8 GMM components...\n",
            "Accuracy with 8 components: 0.9884\n",
            "\n",
            "Training with 16 GMM components...\n",
            "Accuracy with 16 components: 1.0000\n",
            "\n",
            "Training with 32 GMM components...\n",
            "Accuracy with 32 components: 1.0000\n",
            "\n",
            "Training with 64 GMM components...\n",
            "Accuracy with 64 components: 1.0000\n"
          ]
        },
        {
          "output_type": "display_data",
          "data": {
            "text/plain": [
              "<Figure size 640x480 with 1 Axes>"
            ],
            "image/png": "[encoded data removed]"
          },
          "metadata": {}
        }
      ]
    },
    {
      "cell_type": "markdown",
      "source": [
        "# Observations and Inferences for GMM-based Bayes Classifier\n",
        "\n",
        "## Observations\n",
        "\n",
        "1. **Accuracy Increases with More GMM Components**  \n",
        "   As the number of GMM components increases (e.g., from 1 to 2, 4, 8, etc.), the classifier's accuracy generally improves. This suggests that more components allow the GMM to better capture the complex underlying distribution of each class.\n",
        "\n",
        "2. **Performance Saturation or Decline at Higher GMM Components**  \n",
        "   After a certain number of components (e.g., 16 or 32), the accuracy may plateau or even decrease slightly. This happens because adding too many components can lead to **overfitting** the training data, where the GMM becomes too specific to the training set and does not generalize well to unseen test data.\n",
        "\n",
        "3. **GMM Initialization with K-means is Effective**  \n",
        "   Using K-means for initialization significantly improves the convergence and performance of the GMM. Without this initialization, the GMM might converge to poor local optima, especially with a large number of components.\n",
        "\n",
        "4. **Small Number of GMM Components Perform Poorly**  \n",
        "   When using a very small number of GMM components (e.g., 1 or 2), the GMM struggles to represent the data distribution accurately, leading to lower accuracy. This indicates that single or very few Gaussian components may not be sufficient to capture the complex structure in the data.\n",
        "\n",
        "5. **Computation Time Increases with More Components**  \n",
        "   The computational complexity (i.e., training time) of the GMM increases with the number of components due to the increased number of parameters that the model needs to estimate during the Expectation-Maximization (EM) algorithm. This is especially noticeable with higher component numbers like 32 or 64.\n",
        "\n",
        "6. **Better Performance for Balanced Classes**  \n",
        "   Since the two classes in the dataset have equal numbers of samples, the GMM classifier tends to perform well across the different experiments. In imbalanced datasets, we might expect a bias toward the class with more samples, which could require additional techniques (e.g., adjusting priors or using weighted components).\n",
        "\n",
        "7. **Smooth Transition from K-means to GMM**  \n",
        "   K-means provides a good initial guess for GMM means, and the transition from clustering (K-means) to density estimation (GMM) works smoothly. The model fits the data reasonably well after K-means initialization, especially when the number of GMM components is not too high or low.\n",
        "\n",
        "## Inferences\n",
        "\n",
        "1. **Optimal Number of GMM Components Depends on Data Complexity**  \n",
        "   The number of components should be chosen carefully based on the complexity of the data distribution. In simple datasets, fewer components might suffice, but for more complex, multimodal distributions, a higher number of components may be necessary to capture the structure accurately.\n",
        "\n",
        "2. **Risk of Overfitting with Too Many Components**  \n",
        "   Increasing the number of GMM components beyond a certain point can lead to overfitting. This can be observed when the training accuracy is high but test accuracy either plateaus or decreases as the model fits noise and fine details in the training data rather than general patterns.\n",
        "\n",
        "3. **Bayes Classifier Efficiency with GMMs**  \n",
        "   The GMM-based Bayes classifier efficiently computes posterior probabilities, making it an effective classification method when class-conditional distributions can be modeled using mixtures of Gaussians. It assumes that the data within each class can be modeled by a GMM, which is a flexible assumption for many real-world datasets.\n",
        "\n",
        "4. **K-means Helps GMM Convergence**  \n",
        "   Initializing the GMM with K-means helps improve the performance of the Expectation-Maximization algorithm by avoiding poor local optima. This is especially important for datasets with multiple modes or when the number of components is large.\n",
        "\n",
        "5. **Balancing Model Complexity and Generalization**  \n",
        "   There is a trade-off between model complexity (number of GMM components) and generalization performance. While increasing components allows for better modeling of complex data, too many components may lead to a model that does not generalize well on unseen data.\n",
        "\n",
        "6. **Model Selection is Crucial**  \n",
        "   Selecting the optimal number of components requires experimentation and cross-validation. While more components may capture data distributions better, computational cost and overfitting risks need to be carefully managed.\n",
        "\n",
        "7. **GMM’s Flexibility in Modeling Class-Conditional Densities**  \n",
        "   GMM is a highly flexible model capable of approximating any probability distribution given enough components. This makes it a powerful tool for generative classification tasks like this one. However, the trade-off between flexibility and computational efficiency must always be considered.\n",
        "\n",
        "## Conclusion\n",
        "- **Choosing the right number of GMM components** is key for achieving good classification performance. The optimal number may vary depending on the dataset, and **cross-validation** should be used to select the best model.\n",
        "- The use of **K-means initialization** significantly enhances the GMM's performance by improving the starting conditions of the EM algorithm.\n",
        "- **Visualization of model performance** (accuracy vs. number of components) helps identify when the model begins to overfit, assisting in the selection of an appropriate number of components for optimal classification.\n"
      ],
      "metadata": {
        "id": "3tIxpybPo3P3"
      }
    }
  ]
}